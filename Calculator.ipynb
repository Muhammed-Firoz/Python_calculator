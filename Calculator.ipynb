{
  "nbformat": 4,
  "nbformat_minor": 0,
  "metadata": {
    "colab": {
      "provenance": [],
      "authorship_tag": "ABX9TyMOKbKheh8GW7xVoTMiS8rI",
      "include_colab_link": true
    },
    "kernelspec": {
      "name": "python3",
      "display_name": "Python 3"
    },
    "language_info": {
      "name": "python"
    }
  },
  "cells": [
    {
      "cell_type": "markdown",
      "metadata": {
        "id": "view-in-github",
        "colab_type": "text"
      },
      "source": [
        "<a href=\"https://colab.research.google.com/github/Muhammed-Firoz/Python_calculator/blob/main/Calculator.ipynb\" target=\"_parent\"><img src=\"https://colab.research.google.com/assets/colab-badge.svg\" alt=\"Open In Colab\"/></a>"
      ]
    },
    {
      "cell_type": "code",
      "execution_count": null,
      "metadata": {
        "id": "EN3BY-xlIsh6"
      },
      "outputs": [],
      "source": [
        "def calculator():\n",
        "  a=int(input(\"Enter your first number \"))\n",
        "  c=input(\"Enter your operator \")\n",
        "  b= int(input (\"Enter your second number \"))\n",
        "  #global d\n",
        "  #d = 0\n",
        "  while c!='END':\n",
        "    \n",
        "    if c == \"+\":\n",
        "      ab = sum(a,b)\n",
        "    if c == \"-\":\n",
        "      ab = a-b\n",
        "    if c == \"*\":\n",
        "      ab = a*b\n",
        "    if c == \"/\":\n",
        "      ab = a/b\n",
        "    print ('\\n',ab)\n",
        "    d=input(\"Enter your operator or type 'END'\")\n",
        "    \n",
        "    if d == 'END':\n",
        "      return ab\n",
        "    else:\n",
        "      a= ab\n",
        "      c=d\n",
        "      b= int(input (\"Enter your next number \"))"
      ]
    }
  ]
}